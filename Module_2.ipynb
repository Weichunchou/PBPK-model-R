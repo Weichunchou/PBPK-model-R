{
  "nbformat": 4,
  "nbformat_minor": 0,
  "metadata": {
    "colab": {
      "name": "Module_2",
      "provenance": [],
      "collapsed_sections": [],
      "authorship_tag": "ABX9TyM/JPcisd36EEu1GYznIrnB",
      "include_colab_link": true
    },
    "kernelspec": {
      "name": "ir",
      "display_name": "R"
    },
    "language_info": {
      "name": "R"
    }
  },
  "cells": [
    {
      "cell_type": "markdown",
      "metadata": {
        "id": "view-in-github",
        "colab_type": "text"
      },
      "source": [
        "<a href=\"https://colab.research.google.com/github/Weichunchou/PBPK-model-R/blob/main/Module_2.ipynb\" target=\"_parent\"><img src=\"https://colab.research.google.com/assets/colab-badge.svg\" alt=\"Open In Colab\"/></a>"
      ]
    },
    {
      "cell_type": "code",
      "execution_count": null,
      "metadata": {
        "colab": {
          "base_uri": "https://localhost:8080/"
        },
        "id": "l1uW4ucUkvQD",
        "outputId": "d2ed7485-8f97-4505-a17a-f0c834e41a7d"
      },
      "outputs": [
        {
          "output_type": "stream",
          "name": "stderr",
          "text": [
            "Installing package into ‘/usr/local/lib/R/site-library’\n",
            "(as ‘lib’ is unspecified)\n",
            "\n"
          ]
        }
      ],
      "source": [
        "install.packages('deSolve')\n",
        "library('deSolve') # load an add-on package for solving differential equations"
      ]
    },
    {
      "cell_type": "code",
      "source": [
        "# Input the differential equations\n",
        "# pkmodel is a customized function used to compute the value(s) of derivative(s) of A1 and A2 at a specific time\n",
        "\n",
        "pkmodel <- function(time, state, parameters) { # state represents a vector of initial values of A1 and A2; \n",
        "                                               # parameters represent V1, K12, K21, and K10\n",
        "\n",
        "  # The with() function applies an expression to a dataset\n",
        "  with(as.list(c(state, parameters)), {\n",
        "    dA1 <- - K12 * A1 + K21 * A2 - K10 * A1\n",
        "    dA2 <- K12 * A1 - K21 * A2\n",
        "    list(c(dA1, dA2))\n",
        "  })\n",
        "}"
      ],
      "metadata": {
        "id": "sCg1BaEMk2wb"
      },
      "execution_count": null,
      "outputs": []
    },
    {
      "cell_type": "code",
      "source": [
        "state <- c(A1 = 10, A2 = 0) # initial dose is 10 mg in central compartment; initial amount in peripheral compartment is 0 mg\n",
        "parameters <- c(K12 = 0.45, # /h\n",
        "                K21 = 0.6, # /h\n",
        "                K10 = 0.04) # /h\n",
        "\n",
        "times <- seq(0, 24, 0.02) # simulation start time and end time\n",
        "out <- ode(y = state,\n",
        "           times = times,\n",
        "           func = pkmodel,\n",
        "           parms = parameters) # solve and compute the differential equations with parameters and initial state values using the ode solver\n",
        "out <- as.data.frame(out)"
      ],
      "metadata": {
        "id": "fGlKqDRmlF1W"
      },
      "execution_count": null,
      "outputs": []
    },
    {
      "cell_type": "code",
      "source": [
        "V1 = 0.5 # L; This constant should be listed/defined separately because it will be used to calculate the concentration C1 = A1/V1 below\n",
        "         # This parameter does not need to be included in the parameters vector because it is not used in the pkmodel function\n",
        "plot(out$time, out$A1/V1, main = \"Concentration\", xlab = \"Time (hour)\", ylab = \"Concentration (mg/L)\", type = 'l')"
      ],
      "metadata": {
        "colab": {
          "base_uri": "https://localhost:8080/",
          "height": 437
        },
        "id": "TULeg07PlLk5",
        "outputId": "2d178af7-82e7-4cd2-cb3a-84ae8a7fa781"
      },
      "execution_count": null,
      "outputs": [
        {
          "output_type": "display_data",
          "data": {
            "image/png": "[encoded data removed]",
            "text/plain": [
              "Plot with title “Concentration”"
            ]
          },
          "metadata": {
            "image/png": {
              "width": 420,
              "height": 420
            }
          }
        }
      ]
    }
  ]
}
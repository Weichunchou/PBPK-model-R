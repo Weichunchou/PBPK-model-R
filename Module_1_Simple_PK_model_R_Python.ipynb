{
  "nbformat": 4,
  "nbformat_minor": 0,
  "metadata": {
    "colab": {
      "name": "Module_1_Simple_PK_model_R_Python",
      "provenance": [],
      "collapsed_sections": [],
      "authorship_tag": "ABX9TyP59LYQhmm8aVhsFBzQSl5B",
      "include_colab_link": true
    },
    "kernelspec": {
      "name": "python3",
      "display_name": "Python 3"
    },
    "language_info": {
      "name": "python"
    }
  },
  "cells": [
    {
      "cell_type": "markdown",
      "metadata": {
        "id": "view-in-github",
        "colab_type": "text"
      },
      "source": [
        "<a href=\"https://colab.research.google.com/github/Weichunchou/PBPK-model-R/blob/main/Module_1_Simple_PK_model_R_Python.ipynb\" target=\"_parent\"><img src=\"https://colab.research.google.com/assets/colab-badge.svg\" alt=\"Open In Colab\"/></a>"
      ]
    },
    {
      "cell_type": "code",
      "source": [
        "!pip install NumbaLSODA"
      ],
      "metadata": {
        "colab": {
          "base_uri": "https://localhost:8080/"
        },
        "id": "BfMknDeFJ_Rw",
        "outputId": "0a329f31-b1d5-4996-af15-f0368f403948"
      },
      "execution_count": null,
      "outputs": [
        {
          "output_type": "stream",
          "name": "stdout",
          "text": [
            "Collecting NumbaLSODA\n",
            "  Downloading NumbaLSODA-0.1.7-cp37-cp37m-manylinux_2_12_x86_64.manylinux2010_x86_64.whl (34 kB)\n",
            "Requirement already satisfied: numpy in /usr/local/lib/python3.7/dist-packages (from NumbaLSODA) (1.19.5)\n",
            "Requirement already satisfied: numba in /usr/local/lib/python3.7/dist-packages (from NumbaLSODA) (0.51.2)\n",
            "Requirement already satisfied: llvmlite<0.35,>=0.34.0.dev0 in /usr/local/lib/python3.7/dist-packages (from numba->NumbaLSODA) (0.34.0)\n",
            "Requirement already satisfied: setuptools in /usr/local/lib/python3.7/dist-packages (from numba->NumbaLSODA) (57.4.0)\n",
            "Installing collected packages: NumbaLSODA\n",
            "Successfully installed NumbaLSODA-0.1.7\n"
          ]
        }
      ]
    },
    {
      "cell_type": "code",
      "execution_count": null,
      "metadata": {
        "colab": {
          "base_uri": "https://localhost:8080/",
          "height": 279
        },
        "id": "HeJtVoOII5ds",
        "outputId": "26fa50de-9db9-44b7-c132-3451a28b0524"
      },
      "outputs": [
        {
          "output_type": "display_data",
          "data": {
            "image/png": "[encoded data removed]",
            "text/plain": [
              "<Figure size 432x288 with 1 Axes>"
            ]
          },
          "metadata": {
            "needs_background": "light"
          }
        }
      ],
      "source": [
        "import numpy as np\n",
        "from scipy.integrate import odeint\n",
        "import matplotlib.pyplot as plt\n",
        "\n",
        "# function return dy/dt\n",
        "\n",
        "def model(y,t):\n",
        "    k = 0.5\n",
        "    dydt = -k*y\n",
        "    return dydt\n",
        "\n",
        "# inital condition\n",
        "y0 = 10\n",
        "\n",
        "# time points\n",
        "t = np.linspace(0,100, num=10000)\n",
        "\n",
        "# solve ode\n",
        "y = odeint(model,y0,t)\n",
        "\n",
        "# plot results\n",
        "plt.plot(t,y)\n",
        "plt.xlabel('time')\n",
        "plt.ylabel('y(t)')\n",
        "plt.show()"
      ]
    },
    {
      "cell_type": "code",
      "source": [
        "# activate R magic\n",
        "%load_ext rpy2.ipython"
      ],
      "metadata": {
        "id": "LkrDi5QEJyYA"
      },
      "execution_count": null,
      "outputs": []
    },
    {
      "cell_type": "code",
      "source": [
        "from rpy2.robjects.packages import importr\n",
        "utils = importr('utils')\n",
        "\n",
        "package_name = \"deSolve\"\n",
        "utils.install_packages(package_name)"
      ],
      "metadata": {
        "colab": {
          "base_uri": "https://localhost:8080/"
        },
        "id": "gDxNggyUL01p",
        "outputId": "7b6a23bb-4bbe-4f19-c37b-cdf0651f7077"
      },
      "execution_count": null,
      "outputs": [
        {
          "output_type": "stream",
          "name": "stderr",
          "text": [
            "R[write to console]: \n",
            "\n",
            "R[write to console]: \n",
            "R[write to console]: The downloaded source packages are in\n",
            "\t‘/tmp/RtmpOYnwTL/downloaded_packages’\n",
            "R[write to console]: \n",
            "R[write to console]: \n",
            "\n"
          ]
        },
        {
          "output_type": "execute_result",
          "data": {
            "text/plain": [
              "<rpy2.rinterface_lib.sexp.NULLType object at 0x7f75cb0f0730> [RTYPES.NILSXP]"
            ]
          },
          "metadata": {},
          "execution_count": 14
        }
      ]
    },
    {
      "cell_type": "code",
      "source": [
        "%%R\n",
        "library(\"deSolve\") # load an add-on package for solving differential equations\n",
        "\n",
        "# Input the differential equation\n",
        "# pkmodel is a customized function used to compute the value(s) of derivative(s) at a specific time\n",
        "\n",
        "pkmodel <- function(time, C0, parms) {# C0 is the initial value of the concentration, parms is the parameter k\n",
        "\n",
        "# The with( ) function applies an expression to a dataset\n",
        "    with(as.list(c(C0,parms)),{\n",
        "    dC <- - k*C # d/dt(C) = - k * C\n",
        "    list(dC)\n",
        "  })\n",
        "}\n",
        "\n",
        "C0 <- c(C=10) # initial concentration; \n",
        "              # C0 lists the initial state variable, which is usually a constant concentration or volume\n",
        "parms <- c(k = 0.5) # the rate constant\n",
        "                    # parms list the model parameter, which is usually a rate variable\n",
        "\n",
        "times <- seq(0, 100, 0.01) # simulation start time and end time\n",
        "out <- ode(C0, times, pkmodel, parms) # solve the differential equation with parameters"
      ],
      "metadata": {
        "id": "eKFVJRwLLiC9"
      },
      "execution_count": null,
      "outputs": []
    },
    {
      "cell_type": "code",
      "source": [
        "%%R\n",
        "plot(out,main = \"Concentration\", xlab = \"Time (hour)\", ylab = \"Concentration (ug/mL)\")\n"
      ],
      "metadata": {
        "colab": {
          "base_uri": "https://localhost:8080/",
          "height": 497
        },
        "id": "78nD52-4MiNG",
        "outputId": "bf5c5b39-2e99-471c-c516-d087f22b11b9"
      },
      "execution_count": null,
      "outputs": [
        {
          "output_type": "display_data",
          "data": {
            "image/png": "[encoded data removed]"
          },
          "metadata": {}
        }
      ]
    }
  ]
}
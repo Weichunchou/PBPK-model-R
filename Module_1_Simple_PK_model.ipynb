{
  "nbformat": 4,
  "nbformat_minor": 0,
  "metadata": {
    "colab": {
      "name": "Module1: Simple PK model",
      "provenance": [],
      "collapsed_sections": [],
      "authorship_tag": "ABX9TyOvu57hPnE/rLiGgY8Pvtm0",
      "include_colab_link": true
    },
    "kernelspec": {
      "name": "ir",
      "display_name": "R"
    },
    "language_info": {
      "name": "R"
    }
  },
  "cells": [
    {
      "cell_type": "markdown",
      "metadata": {
        "id": "view-in-github",
        "colab_type": "text"
      },
      "source": [
        "<a href=\"https://colab.research.google.com/github/Weichunchou/PBPK-model-R/blob/main/Module1_Simple_PK_model.ipynb\" target=\"_parent\"><img src=\"https://colab.research.google.com/assets/colab-badge.svg\" alt=\"Open In Colab\"/></a>"
      ]
    },
    {
      "cell_type": "markdown",
      "source": [
        "# Install the `deSolve` package"
      ],
      "metadata": {
        "id": "_BADZaX40SvK"
      }
    },
    {
      "cell_type": "code",
      "source": [
        "install.packages('deSolve') # the install code need to be excuted every time"
      ],
      "metadata": {
        "id": "yepreWQ_JqrZ"
      },
      "execution_count": null,
      "outputs": []
    },
    {
      "cell_type": "markdown",
      "source": [
        "# Define the PK model"
      ],
      "metadata": {
        "id": "rT5pxk6j0QNv"
      }
    },
    {
      "cell_type": "code",
      "execution_count": null,
      "metadata": {
        "id": "itg2fEkIJPRg"
      },
      "outputs": [],
      "source": [
        "library(deSolve) # load an add-on package for solving differential equations\n",
        "\n",
        "# Input the differential equation\n",
        "# pkmodel is a customized function used to compute the value(s) of derivative(s) at a specific time\n",
        "\n",
        "pkmodel <- function(time, C0, parms) {# C0 is the initial value of the concentration, parms is the parameter k\n",
        "\n",
        "# The with( ) function applies an expression to a dataset\n",
        "    with(as.list(c(C0,parms)),{\n",
        "    dC <- - k*C # d/dt(C) = - k * C\n",
        "    list(dC)\n",
        "  })\n",
        "}\n",
        "\n",
        "C0 <- c(C=10) # initial concentration; \n",
        "              # C0 lists the initial state variable, which is usually a constant concentration or volume\n",
        "parms <- c(k = 0.5) # the rate constant\n",
        "                    # parms list the model parameter, which is usually a rate variable\n",
        "\n",
        "times <- seq(0, 10, 0.02) # simulation start time and end time\n",
        "out <- ode(C0, times, pkmodel, parms) # solve the differential equation with parameters"
      ]
    },
    {
      "cell_type": "markdown",
      "source": [
        "# Check data set"
      ],
      "metadata": {
        "id": "y1Z_wyrczpei"
      }
    },
    {
      "cell_type": "code",
      "source": [
        "head(out)"
      ],
      "metadata": {
        "colab": {
          "base_uri": "https://localhost:8080/",
          "height": 272
        },
        "id": "klFrsmGGz5Qo",
        "outputId": "11db945a-ae6b-4a2b-9c5b-c95b7a0a9d80"
      },
      "execution_count": null,
      "outputs": [
        {
          "output_type": "display_data",
          "data": {
            "text/plain": [
              "     time C        \n",
              "[1,] 0.00 10.000000\n",
              "[2,] 0.02  9.900498\n",
              "[3,] 0.04  9.801985\n",
              "[4,] 0.06  9.704453\n",
              "[5,] 0.08  9.607892\n",
              "[6,] 0.10  9.512292"
            ],
            "text/latex": "A matrix: 6 × 2 of type dbl\n\\begin{tabular}{ll}\n time & C\\\\\n\\hline\n\t 0.00 & 10.000000\\\\\n\t 0.02 &  9.900498\\\\\n\t 0.04 &  9.801985\\\\\n\t 0.06 &  9.704453\\\\\n\t 0.08 &  9.607892\\\\\n\t 0.10 &  9.512292\\\\\n\\end{tabular}\n",
            "text/markdown": "\nA matrix: 6 × 2 of type dbl\n\n| time | C |\n|---|---|\n| 0.00 | 10.000000 |\n| 0.02 |  9.900498 |\n| 0.04 |  9.801985 |\n| 0.06 |  9.704453 |\n| 0.08 |  9.607892 |\n| 0.10 |  9.512292 |\n\n",
            "text/html": [
              "<table class=\"dataframe\">\n",
              "<caption>A matrix: 6 × 2 of type dbl</caption>\n",
              "<thead>\n",
              "\t<tr><th scope=col>time</th><th scope=col>C</th></tr>\n",
              "</thead>\n",
              "<tbody>\n",
              "\t<tr><td>0.00</td><td>10.000000</td></tr>\n",
              "\t<tr><td>0.02</td><td> 9.900498</td></tr>\n",
              "\t<tr><td>0.04</td><td> 9.801985</td></tr>\n",
              "\t<tr><td>0.06</td><td> 9.704453</td></tr>\n",
              "\t<tr><td>0.08</td><td> 9.607892</td></tr>\n",
              "\t<tr><td>0.10</td><td> 9.512292</td></tr>\n",
              "</tbody>\n",
              "</table>\n"
            ]
          },
          "metadata": {}
        }
      ]
    },
    {
      "cell_type": "markdown",
      "source": [
        "# Plot"
      ],
      "metadata": {
        "id": "GeV1k6KBz-Cu"
      }
    },
    {
      "cell_type": "code",
      "source": [
        "plot(out,main = \"Concentration\", xlab = \"Time (hour)\", ylab = \"Concentration (ug/mL)\")"
      ],
      "metadata": {
        "colab": {
          "base_uri": "https://localhost:8080/",
          "height": 437
        },
        "id": "qH-PC4pY0AGx",
        "outputId": "993ed857-346a-4746-defc-d91510a00eeb"
      },
      "execution_count": null,
      "outputs": [
        {
          "output_type": "display_data",
          "data": {
            "image/png": "[encoded data removed]",
            "text/plain": [
              "Plot with title “Concentration”"
            ]
          },
          "metadata": {
            "image/png": {
              "width": 420,
              "height": 420
            }
          }
        }
      ]
    }
  ]
}
